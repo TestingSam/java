{
 "cells": [
  {
   "cell_type": "code",
   "execution_count": 1,
   "metadata": {},
   "outputs": [
    {
     "name": "stderr",
     "output_type": "stream",
     "text": [
      "Using TensorFlow backend.\n"
     ]
    }
   ],
   "source": [
    "import numpy as np\n",
    "import operator\n",
    "import pandas as pd\n",
    "import matplotlib.pyplot as plt\n",
    "from sklearn.model_selection import train_test_split\n",
    "import re\n",
    "from keras.models import Sequential, load_model\n",
    "from keras.layers import LSTM, Dense, Embedding, Dropout\n",
    "from keras.preprocessing.text import Tokenizer\n",
    "from keras.preprocessing.sequence import pad_sequences"
   ]
  },
  {
   "cell_type": "code",
   "execution_count": 2,
   "metadata": {},
   "outputs": [
    {
     "data": {
      "text/html": [
       "<div>\n",
       "<style scoped>\n",
       "    .dataframe tbody tr th:only-of-type {\n",
       "        vertical-align: middle;\n",
       "    }\n",
       "\n",
       "    .dataframe tbody tr th {\n",
       "        vertical-align: top;\n",
       "    }\n",
       "\n",
       "    .dataframe thead th {\n",
       "        text-align: right;\n",
       "    }\n",
       "</style>\n",
       "<table border=\"1\" class=\"dataframe\">\n",
       "  <thead>\n",
       "    <tr style=\"text-align: right;\">\n",
       "      <th></th>\n",
       "      <th>text</th>\n",
       "    </tr>\n",
       "  </thead>\n",
       "  <tbody>\n",
       "    <tr>\n",
       "      <th>0</th>\n",
       "      <td>Mozambique&amp;#39;s president victorious in elect...</td>\n",
       "    </tr>\n",
       "    <tr>\n",
       "      <th>1</th>\n",
       "      <td>4 Oil &amp;amp; Gas Stocks Likely to Surpass Q3 Ea...</td>\n",
       "    </tr>\n",
       "    <tr>\n",
       "      <th>2</th>\n",
       "      <td>CEO: Oxy to make further sales to pay down deb...</td>\n",
       "    </tr>\n",
       "    <tr>\n",
       "      <th>3</th>\n",
       "      <td>Consider This Global Energy ETF For Dividends</td>\n",
       "    </tr>\n",
       "    <tr>\n",
       "      <th>4</th>\n",
       "      <td>Brazil Oil Auction a âTotal Disasterâ as B...</td>\n",
       "    </tr>\n",
       "  </tbody>\n",
       "</table>\n",
       "</div>"
      ],
      "text/plain": [
       "                                                text\n",
       "0  Mozambique&#39;s president victorious in elect...\n",
       "1  4 Oil &amp; Gas Stocks Likely to Surpass Q3 Ea...\n",
       "2  CEO: Oxy to make further sales to pay down deb...\n",
       "3      Consider This Global Energy ETF For Dividends\n",
       "4  Brazil Oil Auction a âTotal Disasterâ as B..."
      ]
     },
     "execution_count": 2,
     "metadata": {},
     "output_type": "execute_result"
    }
   ],
   "source": [
    "dataset = pd.read_csv(r'D:\\shinu\\stockPredictor\\News.csv', encoding = \"ISO-8859-1\")\n",
    "dataset = dataset.sample(frac=1).reset_index(drop=True)\n",
    "dataset.head()"
   ]
  },
  {
   "cell_type": "code",
   "execution_count": 3,
   "metadata": {},
   "outputs": [
    {
     "data": {
      "text/plain": [
       "0    Mozambique39s president victorious in election...\n",
       "1    4 Oil amp Gas Stocks Likely to Surpass Q3 Earn...\n",
       "2    CEO Oxy to make further sales to pay down debt...\n",
       "3        Consider This Global Energy ETF For Dividends\n",
       "4    Brazil Oil Auction a Total Disaster as Bidders...\n",
       "Name: text, dtype: object"
      ]
     },
     "execution_count": 3,
     "metadata": {},
     "output_type": "execute_result"
    }
   ],
   "source": [
    "dataset['text'].apply(lambda x: x.lower())\n",
    "dataset['text'] = dataset['text'].apply(lambda x: re.sub('[^a-zA-Z0-9\\s]',\"\",x))\n",
    "dataset['text'].head()"
   ]
  },
  {
   "cell_type": "code",
   "execution_count": 4,
   "metadata": {},
   "outputs": [
    {
     "data": {
      "text/plain": [
       "array([[  0,   0,   0,   0,   0,   0,   0,   0, 138,  65, 139,   4, 140,\n",
       "        141, 142],\n",
       "       [  0,   0,   0,   0,  66,   2,  30,  10,   8,  67,   1,  68,   6,\n",
       "         14,  15],\n",
       "       [  0,   0,   0, 143,  44,   1, 144, 145,  69,   1, 146, 147, 148,\n",
       "        149, 150],\n",
       "       [  0,   0,   0,   0,   0,   0,   0,   0, 151, 152, 153,  31,  45,\n",
       "          3, 154],\n",
       "       [  0,   0,   0,   0,   0, 155,   2, 156,  11,   7, 157,  21, 158,\n",
       "        159, 160],\n",
       "       [  0,   0,   0,   0,   0,   0,   0,   0,  22,  70, 161,   8,   3,\n",
       "        162, 163],\n",
       "       [  0,   0,   0,   0,   0,   0,   0,   0,   0, 164, 165,   8,  23,\n",
       "        166, 167]])"
      ]
     },
     "execution_count": 4,
     "metadata": {},
     "output_type": "execute_result"
    }
   ],
   "source": [
    "tokenizer = Tokenizer(num_words=1000, split=\" \")\n",
    "tokenizer.fit_on_texts(dataset['text'].values)\n",
    "\n",
    "X = tokenizer.texts_to_sequences(dataset['text'].values)\n",
    "X = pad_sequences(X, maxlen=19)\n",
    "X[:7]"
   ]
  },
  {
   "cell_type": "code",
   "execution_count": 5,
   "metadata": {},
   "outputs": [
    {
     "name": "stderr",
     "output_type": "stream",
     "text": [
      "WARNING: Logging before flag parsing goes to stderr.\n",
      "W1107 22:13:52.979034  3724 deprecation_wrapper.py:119] From D:\\Anaconda3\\lib\\site-packages\\keras\\backend\\tensorflow_backend.py:517: The name tf.placeholder is deprecated. Please use tf.compat.v1.placeholder instead.\n",
      "\n",
      "W1107 22:13:53.003972  3724 deprecation_wrapper.py:119] From D:\\Anaconda3\\lib\\site-packages\\keras\\backend\\tensorflow_backend.py:4138: The name tf.random_uniform is deprecated. Please use tf.random.uniform instead.\n",
      "\n",
      "W1107 22:13:53.016931  3724 deprecation_wrapper.py:119] From D:\\Anaconda3\\lib\\site-packages\\keras\\backend\\tensorflow_backend.py:131: The name tf.get_default_graph is deprecated. Please use tf.compat.v1.get_default_graph instead.\n",
      "\n",
      "W1107 22:13:53.017929  3724 deprecation_wrapper.py:119] From D:\\Anaconda3\\lib\\site-packages\\keras\\backend\\tensorflow_backend.py:133: The name tf.placeholder_with_default is deprecated. Please use tf.compat.v1.placeholder_with_default instead.\n",
      "\n",
      "W1107 22:13:53.029900  3724 deprecation.py:506] From D:\\Anaconda3\\lib\\site-packages\\keras\\backend\\tensorflow_backend.py:3445: calling dropout (from tensorflow.python.ops.nn_ops) with keep_prob is deprecated and will be removed in a future version.\n",
      "Instructions for updating:\n",
      "Please use `rate` instead of `keep_prob`. Rate should be set to `rate = 1 - keep_prob`.\n",
      "W1107 22:13:53.703097  3724 deprecation_wrapper.py:119] From D:\\Anaconda3\\lib\\site-packages\\keras\\backend\\tensorflow_backend.py:174: The name tf.get_default_session is deprecated. Please use tf.compat.v1.get_default_session instead.\n",
      "\n",
      "W1107 22:13:54.067124  3724 deprecation_wrapper.py:119] From D:\\Anaconda3\\lib\\site-packages\\keras\\optimizers.py:790: The name tf.train.Optimizer is deprecated. Please use tf.compat.v1.train.Optimizer instead.\n",
      "\n",
      "W1107 22:13:54.253658  3724 deprecation.py:323] From D:\\Anaconda3\\lib\\site-packages\\tensorflow\\python\\ops\\math_grad.py:1250: add_dispatch_support.<locals>.wrapper (from tensorflow.python.ops.array_ops) is deprecated and will be removed in a future version.\n",
      "Instructions for updating:\n",
      "Use tf.where in 2.0, which has the same broadcast rule as np.where\n"
     ]
    }
   ],
   "source": [
    "model = load_model(r'D:\\shinu\\stockPredictor\\Sentiment_Model.h5')"
   ]
  },
  {
   "cell_type": "code",
   "execution_count": 6,
   "metadata": {},
   "outputs": [],
   "source": [
    "prediction = model.predict(X)\n",
    "news=[]\n",
    "label=[]\n",
    "for i in range(0,dataset.shape[0]):\n",
    "    news.append(dataset['text'][i])\n",
    "    if(max(enumerate(prediction[i]), key=operator.itemgetter(1))[0]==0):\n",
    "        label.append(\"1\")\n",
    "    elif(max(enumerate(prediction[i]), key=operator.itemgetter(1))[0]==1):\n",
    "        label.append(\"0\")\n",
    "    elif(max(enumerate(prediction[i]), key=operator.itemgetter(1))[0]==2):\n",
    "        label.append(\"-1\")\n",
    "dict = {'headline': news, 'label': label}\n",
    "df = pd.DataFrame(dict)\n",
    "df.to_csv(r'D:\\shinu\\stockPredictor\\newsSentiments.csv', index=False) \n",
    "df.to_csv(r'D:\\shinu\\stockPredictor\\newsSentimentsCollection.csv', mode='a', header=None, index=False)"
   ]
  },
  {
   "cell_type": "code",
   "execution_count": 7,
   "metadata": {},
   "outputs": [
    {
     "data": {
      "text/html": [
       "<div>\n",
       "<style scoped>\n",
       "    .dataframe tbody tr th:only-of-type {\n",
       "        vertical-align: middle;\n",
       "    }\n",
       "\n",
       "    .dataframe tbody tr th {\n",
       "        vertical-align: top;\n",
       "    }\n",
       "\n",
       "    .dataframe thead th {\n",
       "        text-align: right;\n",
       "    }\n",
       "</style>\n",
       "<table border=\"1\" class=\"dataframe\">\n",
       "  <thead>\n",
       "    <tr style=\"text-align: right;\">\n",
       "      <th></th>\n",
       "      <th>headline</th>\n",
       "      <th>label</th>\n",
       "    </tr>\n",
       "  </thead>\n",
       "  <tbody>\n",
       "    <tr>\n",
       "      <th>0</th>\n",
       "      <td>Saudi Aramco finally launches longawaited megaIPO</td>\n",
       "      <td>0</td>\n",
       "    </tr>\n",
       "    <tr>\n",
       "      <th>1</th>\n",
       "      <td>Exxon39s climate change fraud trial to wrap up...</td>\n",
       "      <td>-1</td>\n",
       "    </tr>\n",
       "    <tr>\n",
       "      <th>2</th>\n",
       "      <td>Consider This Global Energy ETF For Dividends</td>\n",
       "      <td>1</td>\n",
       "    </tr>\n",
       "    <tr>\n",
       "      <th>3</th>\n",
       "      <td>Is Schwab Fundamental US Broad Market Index ET...</td>\n",
       "      <td>-1</td>\n",
       "    </tr>\n",
       "    <tr>\n",
       "      <th>4</th>\n",
       "      <td>The Zacks Analyst Blog Highlights Verizon Comm...</td>\n",
       "      <td>1</td>\n",
       "    </tr>\n",
       "  </tbody>\n",
       "</table>\n",
       "</div>"
      ],
      "text/plain": [
       "                                            headline  label\n",
       "0  Saudi Aramco finally launches longawaited megaIPO      0\n",
       "1  Exxon39s climate change fraud trial to wrap up...     -1\n",
       "2      Consider This Global Energy ETF For Dividends      1\n",
       "3  Is Schwab Fundamental US Broad Market Index ET...     -1\n",
       "4  The Zacks Analyst Blog Highlights Verizon Comm...      1"
      ]
     },
     "execution_count": 7,
     "metadata": {},
     "output_type": "execute_result"
    }
   ],
   "source": [
    "dataset = pd.read_csv(r'D:\\shinu\\stockPredictor\\newsSentimentsCollection.csv', encoding = \"ISO-8859-1\")\n",
    "dataset = dataset.sample(frac=1).reset_index(drop=True)\n",
    "dataset.head()"
   ]
  },
  {
   "cell_type": "code",
   "execution_count": 8,
   "metadata": {},
   "outputs": [
    {
     "data": {
      "text/plain": [
       "(393, 2)"
      ]
     },
     "execution_count": 8,
     "metadata": {},
     "output_type": "execute_result"
    }
   ],
   "source": [
    "dataset.shape"
   ]
  },
  {
   "cell_type": "code",
   "execution_count": 9,
   "metadata": {},
   "outputs": [
    {
     "data": {
      "text/html": [
       "<div>\n",
       "<style scoped>\n",
       "    .dataframe tbody tr th:only-of-type {\n",
       "        vertical-align: middle;\n",
       "    }\n",
       "\n",
       "    .dataframe tbody tr th {\n",
       "        vertical-align: top;\n",
       "    }\n",
       "\n",
       "    .dataframe thead th {\n",
       "        text-align: right;\n",
       "    }\n",
       "</style>\n",
       "<table border=\"1\" class=\"dataframe\">\n",
       "  <thead>\n",
       "    <tr style=\"text-align: right;\">\n",
       "      <th></th>\n",
       "      <th>label</th>\n",
       "      <th>headline</th>\n",
       "    </tr>\n",
       "  </thead>\n",
       "  <tbody>\n",
       "    <tr>\n",
       "      <th>0</th>\n",
       "      <td>0</td>\n",
       "      <td>Saudi Aramco finally launches longawaited megaIPO</td>\n",
       "    </tr>\n",
       "    <tr>\n",
       "      <th>1</th>\n",
       "      <td>-1</td>\n",
       "      <td>Exxon39s climate change fraud trial to wrap up...</td>\n",
       "    </tr>\n",
       "    <tr>\n",
       "      <th>2</th>\n",
       "      <td>1</td>\n",
       "      <td>Consider This Global Energy ETF For Dividends</td>\n",
       "    </tr>\n",
       "    <tr>\n",
       "      <th>3</th>\n",
       "      <td>-1</td>\n",
       "      <td>Is Schwab Fundamental US Broad Market Index ET...</td>\n",
       "    </tr>\n",
       "    <tr>\n",
       "      <th>4</th>\n",
       "      <td>1</td>\n",
       "      <td>The Zacks Analyst Blog Highlights Verizon Comm...</td>\n",
       "    </tr>\n",
       "  </tbody>\n",
       "</table>\n",
       "</div>"
      ],
      "text/plain": [
       "   label                                           headline\n",
       "0      0  Saudi Aramco finally launches longawaited megaIPO\n",
       "1     -1  Exxon39s climate change fraud trial to wrap up...\n",
       "2      1      Consider This Global Energy ETF For Dividends\n",
       "3     -1  Is Schwab Fundamental US Broad Market Index ET...\n",
       "4      1  The Zacks Analyst Blog Highlights Verizon Comm..."
      ]
     },
     "execution_count": 9,
     "metadata": {},
     "output_type": "execute_result"
    }
   ],
   "source": [
    "dataset = dataset[['label','headline']]\n",
    "dataset.head()"
   ]
  },
  {
   "cell_type": "code",
   "execution_count": 10,
   "metadata": {},
   "outputs": [
    {
     "data": {
      "text/plain": [
       "<matplotlib.axes._subplots.AxesSubplot at 0x203208e1278>"
      ]
     },
     "execution_count": 10,
     "metadata": {},
     "output_type": "execute_result"
    },
    {
     "data": {
      "image/png": "[encoded data removed]",
      "text/plain": [
       "<Figure size 432x288 with 1 Axes>"
      ]
     },
     "metadata": {
      "needs_background": "light"
     },
     "output_type": "display_data"
    }
   ],
   "source": [
    "%matplotlib inline\n",
    "dataset['headline'].str.len().plot.hist()"
   ]
  },
  {
   "cell_type": "code",
   "execution_count": 11,
   "metadata": {},
   "outputs": [
    {
     "data": {
      "text/plain": [
       " 1    193\n",
       "-1    166\n",
       " 0     34\n",
       "Name: label, dtype: int64"
      ]
     },
     "execution_count": 11,
     "metadata": {},
     "output_type": "execute_result"
    }
   ],
   "source": [
    "dataset['label'].value_counts()"
   ]
  },
  {
   "cell_type": "code",
   "execution_count": 12,
   "metadata": {},
   "outputs": [
    {
     "data": {
      "text/plain": [
       " 1    193\n",
       "-1    166\n",
       " 0     34\n",
       "Name: label, dtype: int64"
      ]
     },
     "execution_count": 12,
     "metadata": {},
     "output_type": "execute_result"
    }
   ],
   "source": [
    "dataset['label'].value_counts()"
   ]
  },
  {
   "cell_type": "code",
   "execution_count": 13,
   "metadata": {},
   "outputs": [
    {
     "data": {
      "text/plain": [
       "0    Saudi Aramco finally launches longawaited megaIPO\n",
       "1    Exxon39s climate change fraud trial to wrap up...\n",
       "2        Consider This Global Energy ETF For Dividends\n",
       "3    Is Schwab Fundamental US Broad Market Index ET...\n",
       "4    The Zacks Analyst Blog Highlights Verizon Comm...\n",
       "Name: headline, dtype: object"
      ]
     },
     "execution_count": 13,
     "metadata": {},
     "output_type": "execute_result"
    }
   ],
   "source": [
    "dataset['headline'].apply(lambda x: x.lower())\n",
    "dataset['headline'] = dataset['headline'].apply(lambda x: re.sub('[^a-zA-Z0-9\\s]',\"\",x))\n",
    "dataset['headline'].head()"
   ]
  },
  {
   "cell_type": "code",
   "execution_count": 14,
   "metadata": {},
   "outputs": [
    {
     "data": {
      "text/plain": [
       "array([[  0,   0,   0,   0,   0,   0,   0,   0,   0,   0,   0,   0,   0,\n",
       "         24,  20, 187, 188, 189, 190],\n",
       "       [  0,   0,   0,   0,   0,   0,   0,   0, 191,  89,  90,  91,  54,\n",
       "          1,  92,  28,   4,  17,  76],\n",
       "       [  0,   0,   0,   0,   0,   0,   0,   0,   0,   0,   0,   0, 192,\n",
       "        144, 145,  38,  51,   2, 193],\n",
       "       [  0,   0,   0,   0,   0,  19, 194, 195,  39, 196,  55, 197,  51,\n",
       "        198,   8,  77,  51, 146,  48],\n",
       "       [  0,   0,   0,   0,   0,   0,   0,   5,  30,  13,  31,  32,  93,\n",
       "        199,  94,  10, 200,   6,  78],\n",
       "       [  0,   0,   0,   0,   0,   0,   0,  14, 201,  89,  90,  91,  54,\n",
       "          1,  92,  28,   4,  17,  76],\n",
       "       [  0,   0,   0,   0,   0,   0, 147, 504, 505,  25, 506, 507,  51,\n",
       "        508, 509,  12, 510, 511, 512]])"
      ]
     },
     "execution_count": 14,
     "metadata": {},
     "output_type": "execute_result"
    }
   ],
   "source": [
    "tokenizer = Tokenizer(num_words=5000, split=\" \")\n",
    "tokenizer.fit_on_texts(dataset['headline'].values)\n",
    "\n",
    "X = tokenizer.texts_to_sequences(dataset['headline'].values)\n",
    "X = pad_sequences(X)\n",
    "X[:7]"
   ]
  },
  {
   "cell_type": "code",
   "execution_count": 15,
   "metadata": {},
   "outputs": [
    {
     "data": {
      "text/plain": [
       "(393, 19)"
      ]
     },
     "execution_count": 15,
     "metadata": {},
     "output_type": "execute_result"
    }
   ],
   "source": [
    "X.shape"
   ]
  },
  {
   "cell_type": "code",
   "execution_count": 16,
   "metadata": {},
   "outputs": [],
   "source": [
    "model = Sequential()\n",
    "model.add(Embedding(5000, 256, input_length = X.shape[1]))\n",
    "model.add(Dropout(0.3))\n",
    "model.add(LSTM(256, return_sequences=True, dropout = 0.3, recurrent_dropout=0.2))\n",
    "model.add(LSTM(256, dropout = 0.3, recurrent_dropout =0.2))\n",
    "model.add(Dense(3, activation = 'softmax'))"
   ]
  },
  {
   "cell_type": "code",
   "execution_count": 17,
   "metadata": {},
   "outputs": [
    {
     "name": "stdout",
     "output_type": "stream",
     "text": [
      "_________________________________________________________________\n",
      "Layer (type)                 Output Shape              Param #   \n",
      "=================================================================\n",
      "embedding_1 (Embedding)      (None, 19, 256)           1280000   \n",
      "_________________________________________________________________\n",
      "dropout_1 (Dropout)          (None, 19, 256)           0         \n",
      "_________________________________________________________________\n",
      "lstm_1 (LSTM)                (None, 19, 256)           525312    \n",
      "_________________________________________________________________\n",
      "lstm_2 (LSTM)                (None, 256)               525312    \n",
      "_________________________________________________________________\n",
      "dense_1 (Dense)              (None, 3)                 771       \n",
      "=================================================================\n",
      "Total params: 2,331,395\n",
      "Trainable params: 2,331,395\n",
      "Non-trainable params: 0\n",
      "_________________________________________________________________\n"
     ]
    }
   ],
   "source": [
    "model.compile(loss = 'categorical_crossentropy', optimizer='adam', metrics=['accuracy'])\n",
    "model.summary()"
   ]
  },
  {
   "cell_type": "code",
   "execution_count": 18,
   "metadata": {},
   "outputs": [
    {
     "name": "stdout",
     "output_type": "stream",
     "text": [
      "0 [0 1 0]\n",
      "-1 [1 0 0]\n",
      "1 [0 0 1]\n",
      "-1 [1 0 0]\n",
      "1 [0 0 1]\n",
      "1 [0 0 1]\n",
      "0 [0 1 0]\n"
     ]
    },
    {
     "data": {
      "text/plain": [
       "[None, None, None, None, None, None, None]"
      ]
     },
     "execution_count": 18,
     "metadata": {},
     "output_type": "execute_result"
    }
   ],
   "source": [
    "y = pd.get_dummies(dataset['label']).values\n",
    "[print(dataset['label'][i], y[i]) for i in range(0,7)]"
   ]
  },
  {
   "cell_type": "code",
   "execution_count": 19,
   "metadata": {},
   "outputs": [],
   "source": [
    "X_train, X_test, y_train, y_test = train_test_split(X,y, test_size=0.2, random_state=0)"
   ]
  },
  {
   "cell_type": "code",
   "execution_count": 20,
   "metadata": {},
   "outputs": [
    {
     "data": {
      "text/plain": [
       "array([[  0,   0,   0,   0,   0,   0,   0,  37,  42,  34,  43,  44,  45,\n",
       "        106,   5, 107, 108,  57, 109],\n",
       "       [  0,   0,   0,   0,   0,   0,   0,   0,   0,   0,   0,  25,  13,\n",
       "         23,   2, 377, 378, 379, 380],\n",
       "       [  0,   0,   0,   0,   0,   0,   0,   0,   0, 307,   3, 308,   8,\n",
       "         10, 309,  21, 310, 311, 312],\n",
       "       [  0,   0,   0,   0,   0,   0,   0,   0,   0,   0, 386, 186, 387,\n",
       "          9,  15, 119, 388,  28, 389],\n",
       "       [  0,   0,   0,   0,   0,   0,   0,   0,   0,  25,  16,  23,   2,\n",
       "         39, 405, 406, 407, 143, 408],\n",
       "       [  0,   0,   0,   0,   0,   0,   0,   0,   0, 400, 401, 402,  12,\n",
       "        403, 142, 404,   6,  38,   7],\n",
       "       [  0,   0,   0,   0,   0,   0,   0,   0,   0, 307,   3, 308,   8,\n",
       "         10, 309,  21, 310, 311, 312]])"
      ]
     },
     "execution_count": 20,
     "metadata": {},
     "output_type": "execute_result"
    }
   ],
   "source": [
    "X_test[:7]"
   ]
  },
  {
   "cell_type": "code",
   "execution_count": 21,
   "metadata": {},
   "outputs": [
    {
     "name": "stdout",
     "output_type": "stream",
     "text": [
      "Epoch 1/50\n",
      " - 3s - loss: 1.0600 - acc: 0.4554\n",
      "Epoch 2/50\n",
      " - 1s - loss: 0.9389 - acc: 0.5096\n",
      "Epoch 3/50\n",
      " - 1s - loss: 0.9306 - acc: 0.4618\n",
      "Epoch 4/50\n",
      " - 1s - loss: 0.8995 - acc: 0.4968\n",
      "Epoch 5/50\n",
      " - 1s - loss: 0.8101 - acc: 0.6401\n",
      "Epoch 6/50\n",
      " - 1s - loss: 0.7027 - acc: 0.7389\n",
      "Epoch 7/50\n",
      " - 1s - loss: 0.5741 - acc: 0.7452\n",
      "Epoch 8/50\n",
      " - 1s - loss: 0.4830 - acc: 0.8185\n",
      "Epoch 9/50\n",
      " - 1s - loss: 0.4534 - acc: 0.8025\n",
      "Epoch 10/50\n",
      " - 1s - loss: 0.4467 - acc: 0.7898\n",
      "Epoch 11/50\n",
      " - 1s - loss: 0.4179 - acc: 0.8057\n",
      "Epoch 12/50\n",
      " - 1s - loss: 0.4243 - acc: 0.7930\n",
      "Epoch 13/50\n",
      " - 1s - loss: 0.3984 - acc: 0.8089\n",
      "Epoch 14/50\n",
      " - 1s - loss: 0.3725 - acc: 0.8280\n",
      "Epoch 15/50\n",
      " - 1s - loss: 0.4211 - acc: 0.7962\n",
      "Epoch 16/50\n",
      " - 1s - loss: 0.4093 - acc: 0.7930\n",
      "Epoch 17/50\n",
      " - 1s - loss: 0.4153 - acc: 0.7962\n",
      "Epoch 18/50\n",
      " - 1s - loss: 0.3851 - acc: 0.8057\n",
      "Epoch 19/50\n",
      " - 1s - loss: 0.3626 - acc: 0.8089\n",
      "Epoch 20/50\n",
      " - 1s - loss: 0.3867 - acc: 0.8057\n",
      "Epoch 21/50\n",
      " - 1s - loss: 0.3720 - acc: 0.7930\n",
      "Epoch 22/50\n",
      " - 1s - loss: 0.3602 - acc: 0.8185\n",
      "Epoch 23/50\n",
      " - 1s - loss: 0.3750 - acc: 0.7898\n",
      "Epoch 24/50\n",
      " - 1s - loss: 0.3696 - acc: 0.7930\n",
      "Epoch 25/50\n",
      " - 1s - loss: 0.3693 - acc: 0.8025\n",
      "Epoch 26/50\n",
      " - 1s - loss: 0.3652 - acc: 0.7866\n",
      "Epoch 27/50\n",
      " - 1s - loss: 0.3512 - acc: 0.8089\n",
      "Epoch 28/50\n",
      " - 1s - loss: 0.3629 - acc: 0.8057\n",
      "Epoch 29/50\n",
      " - 1s - loss: 0.3601 - acc: 0.7930\n",
      "Epoch 30/50\n",
      " - 1s - loss: 0.3441 - acc: 0.8089\n",
      "Epoch 31/50\n",
      " - 1s - loss: 0.3621 - acc: 0.8089\n",
      "Epoch 32/50\n",
      " - 1s - loss: 0.3686 - acc: 0.7962\n",
      "Epoch 33/50\n",
      " - 1s - loss: 0.3506 - acc: 0.7930\n",
      "Epoch 34/50\n",
      " - 1s - loss: 0.3527 - acc: 0.8057\n",
      "Epoch 35/50\n",
      " - 1s - loss: 0.3522 - acc: 0.8121\n",
      "Epoch 36/50\n",
      " - 1s - loss: 0.3491 - acc: 0.8057\n",
      "Epoch 37/50\n",
      " - 1s - loss: 0.3501 - acc: 0.8121\n",
      "Epoch 38/50\n",
      " - 1s - loss: 0.3465 - acc: 0.8185\n",
      "Epoch 39/50\n",
      " - 1s - loss: 0.3463 - acc: 0.8217\n",
      "Epoch 40/50\n",
      " - 1s - loss: 0.3497 - acc: 0.7898\n",
      "Epoch 41/50\n",
      " - 1s - loss: 0.3473 - acc: 0.8248\n",
      "Epoch 42/50\n",
      " - 1s - loss: 0.3496 - acc: 0.8121\n",
      "Epoch 43/50\n",
      " - 1s - loss: 0.3585 - acc: 0.8121\n",
      "Epoch 44/50\n",
      " - 1s - loss: 0.3647 - acc: 0.8025\n",
      "Epoch 45/50\n",
      " - 1s - loss: 0.3559 - acc: 0.8057\n",
      "Epoch 46/50\n",
      " - 1s - loss: 0.3420 - acc: 0.8057\n",
      "Epoch 47/50\n",
      " - 1s - loss: 0.3533 - acc: 0.8025\n",
      "Epoch 48/50\n",
      " - 1s - loss: 0.3484 - acc: 0.8057\n",
      "Epoch 49/50\n",
      " - 1s - loss: 0.3573 - acc: 0.8153\n",
      "Epoch 50/50\n",
      " - 1s - loss: 0.3577 - acc: 0.7866\n",
      "Accuracy: 70.89%\n"
     ]
    }
   ],
   "source": [
    "batch_size = 64\n",
    "epochs = 50\n",
    "model.fit(X_train, y_train, epochs = epochs, batch_size = batch_size, verbose=2)\n",
    "scores=model.evaluate(X_test,y_test, verbose=2)\n",
    "print(\"Accuracy: %.2f%%\" %(scores[1]*100))"
   ]
  },
  {
   "cell_type": "code",
   "execution_count": 22,
   "metadata": {},
   "outputs": [],
   "source": [
    "model.save(r'D:\\shinu\\stockPredictor\\Sentiment_Model.h5')"
   ]
  },
  {
   "cell_type": "code",
   "execution_count": 23,
   "metadata": {},
   "outputs": [
    {
     "name": "stdout",
     "output_type": "stream",
     "text": [
      "Saudi Aramco finally launches longawaited megaIPO\n",
      "POSITIVE\n",
      "Exxon39s climate change fraud trial to wrap up in New York\n",
      "NEGATIVE\n",
      "Consider This Global Energy ETF For Dividends\n",
      "NEGATIVE\n",
      "Is Schwab Fundamental US Broad Market Index ETF FNDB a Strong ETF Right Now\n",
      "NEGATIVE\n",
      "The Zacks Analyst Blog Highlights Verizon Communications McDonald39s TOTAL Broadcom and UPS\n",
      "POSITIVE\n",
      "UPDATE 1Exxon39s climate change fraud trial to wrap up in New York\n",
      "NEGATIVE\n",
      "Should iShares Russell Top 200 Value ETF IWX Be on Your Investing Radar\n",
      "NEGATIVE\n"
     ]
    }
   ],
   "source": [
    "prediction = model.predict(X_test)\n",
    "\n",
    "#[print(dataset['text'][i], prediction[i], y_test[i]) for i in range(0,7)]\n",
    "for i in range(0,7):\n",
    "    print(dataset['headline'][i])\n",
    "    if(max(enumerate(prediction[i]), key=operator.itemgetter(1))[0]==0):\n",
    "        print(\"POSITIVE\")\n",
    "    elif(max(enumerate(prediction[i]), key=operator.itemgetter(1))[0]==1):\n",
    "        print(\"NEUTRAL\")\n",
    "    elif(max(enumerate(prediction[i]), key=operator.itemgetter(1))[0]==2):\n",
    "        print(\"NEGATIVE\")"
   ]
  }
 ],
 "metadata": {
  "kernelspec": {
   "display_name": "Python 3",
   "language": "python",
   "name": "python3"
  },
  "language_info": {
   "codemirror_mode": {
    "name": "ipython",
    "version": 3
   },
   "file_extension": ".py",
   "mimetype": "text/x-python",
   "name": "python",
   "nbconvert_exporter": "python",
   "pygments_lexer": "ipython3",
   "version": "3.7.3"
  }
 },
 "nbformat": 4,
 "nbformat_minor": 2
}
