{
 "cells": [
  {
   "cell_type": "code",
   "execution_count": 1,
   "metadata": {
    "scrolled": true
   },
   "outputs": [
    {
     "name": "stderr",
     "output_type": "stream",
     "text": [
      "Using TensorFlow backend.\n"
     ]
    }
   ],
   "source": [
    "import numpy as np\n",
    "import operator\n",
    "import pandas as pd\n",
    "import matplotlib.pyplot as plt\n",
    "from sklearn.model_selection import train_test_split\n",
    "import re\n",
    "from keras.models import Sequential, load_model\n",
    "from keras.layers import LSTM, Dense, Embedding, Dropout\n",
    "from keras.preprocessing.text import Tokenizer\n",
    "from keras.preprocessing.sequence import pad_sequences"
   ]
  },
  {
   "cell_type": "code",
   "execution_count": 2,
   "metadata": {
    "scrolled": true
   },
   "outputs": [
    {
     "data": {
      "text/html": [
       "<div>\n",
       "<style scoped>\n",
       "    .dataframe tbody tr th:only-of-type {\n",
       "        vertical-align: middle;\n",
       "    }\n",
       "\n",
       "    .dataframe tbody tr th {\n",
       "        vertical-align: top;\n",
       "    }\n",
       "\n",
       "    .dataframe thead th {\n",
       "        text-align: right;\n",
       "    }\n",
       "</style>\n",
       "<table border=\"1\" class=\"dataframe\">\n",
       "  <thead>\n",
       "    <tr style=\"text-align: right;\">\n",
       "      <th></th>\n",
       "      <th>headline</th>\n",
       "      <th>label</th>\n",
       "    </tr>\n",
       "  </thead>\n",
       "  <tbody>\n",
       "    <tr>\n",
       "      <th>0</th>\n",
       "      <td>Huaweis New Android Phone Lacks Luster Without...</td>\n",
       "      <td>1</td>\n",
       "    </tr>\n",
       "    <tr>\n",
       "      <th>1</th>\n",
       "      <td>ATT Extends 5G Leadership Across the US</td>\n",
       "      <td>0</td>\n",
       "    </tr>\n",
       "    <tr>\n",
       "      <th>2</th>\n",
       "      <td>The Namewashing of Public Transit</td>\n",
       "      <td>1</td>\n",
       "    </tr>\n",
       "    <tr>\n",
       "      <th>3</th>\n",
       "      <td>Disney Hit 10 Million SignUps at Its Launch Bu...</td>\n",
       "      <td>-1</td>\n",
       "    </tr>\n",
       "    <tr>\n",
       "      <th>4</th>\n",
       "      <td>Black Friday and Cyber Monday at Verizon The b...</td>\n",
       "      <td>0</td>\n",
       "    </tr>\n",
       "  </tbody>\n",
       "</table>\n",
       "</div>"
      ],
      "text/plain": [
       "                                            headline  label\n",
       "0  Huaweis New Android Phone Lacks Luster Without...      1\n",
       "1            ATT Extends 5G Leadership Across the US      0\n",
       "2                  The Namewashing of Public Transit      1\n",
       "3  Disney Hit 10 Million SignUps at Its Launch Bu...     -1\n",
       "4  Black Friday and Cyber Monday at Verizon The b...      0"
      ]
     },
     "execution_count": 2,
     "metadata": {},
     "output_type": "execute_result"
    }
   ],
   "source": [
    "dataset = pd.read_csv(r'D:\\shinu\\stockPredictor\\newsSentiments.csv', encoding = \"ISO-8859-1\")\n",
    "dataset = dataset.sample(frac=1).reset_index(drop=True)\n",
    "dataset.head()"
   ]
  },
  {
   "cell_type": "code",
   "execution_count": 3,
   "metadata": {},
   "outputs": [
    {
     "data": {
      "text/plain": [
       "(55, 2)"
      ]
     },
     "execution_count": 3,
     "metadata": {},
     "output_type": "execute_result"
    }
   ],
   "source": [
    "dataset.shape"
   ]
  },
  {
   "cell_type": "code",
   "execution_count": 4,
   "metadata": {
    "scrolled": false
   },
   "outputs": [
    {
     "data": {
      "text/html": [
       "<div>\n",
       "<style scoped>\n",
       "    .dataframe tbody tr th:only-of-type {\n",
       "        vertical-align: middle;\n",
       "    }\n",
       "\n",
       "    .dataframe tbody tr th {\n",
       "        vertical-align: top;\n",
       "    }\n",
       "\n",
       "    .dataframe thead th {\n",
       "        text-align: right;\n",
       "    }\n",
       "</style>\n",
       "<table border=\"1\" class=\"dataframe\">\n",
       "  <thead>\n",
       "    <tr style=\"text-align: right;\">\n",
       "      <th></th>\n",
       "      <th>label</th>\n",
       "      <th>headline</th>\n",
       "    </tr>\n",
       "  </thead>\n",
       "  <tbody>\n",
       "    <tr>\n",
       "      <th>0</th>\n",
       "      <td>1</td>\n",
       "      <td>Huaweis New Android Phone Lacks Luster Without...</td>\n",
       "    </tr>\n",
       "    <tr>\n",
       "      <th>1</th>\n",
       "      <td>0</td>\n",
       "      <td>ATT Extends 5G Leadership Across the US</td>\n",
       "    </tr>\n",
       "    <tr>\n",
       "      <th>2</th>\n",
       "      <td>1</td>\n",
       "      <td>The Namewashing of Public Transit</td>\n",
       "    </tr>\n",
       "    <tr>\n",
       "      <th>3</th>\n",
       "      <td>-1</td>\n",
       "      <td>Disney Hit 10 Million SignUps at Its Launch Bu...</td>\n",
       "    </tr>\n",
       "    <tr>\n",
       "      <th>4</th>\n",
       "      <td>0</td>\n",
       "      <td>Black Friday and Cyber Monday at Verizon The b...</td>\n",
       "    </tr>\n",
       "  </tbody>\n",
       "</table>\n",
       "</div>"
      ],
      "text/plain": [
       "   label                                           headline\n",
       "0      1  Huaweis New Android Phone Lacks Luster Without...\n",
       "1      0            ATT Extends 5G Leadership Across the US\n",
       "2      1                  The Namewashing of Public Transit\n",
       "3     -1  Disney Hit 10 Million SignUps at Its Launch Bu...\n",
       "4      0  Black Friday and Cyber Monday at Verizon The b..."
      ]
     },
     "execution_count": 4,
     "metadata": {},
     "output_type": "execute_result"
    }
   ],
   "source": [
    "dataset = dataset[['label','headline']]\n",
    "dataset.head()"
   ]
  },
  {
   "cell_type": "code",
   "execution_count": 5,
   "metadata": {
    "scrolled": true
   },
   "outputs": [
    {
     "data": {
      "text/plain": [
       "<matplotlib.axes._subplots.AxesSubplot at 0x26859af6198>"
      ]
     },
     "execution_count": 5,
     "metadata": {},
     "output_type": "execute_result"
    },
    {
     "data": {
      "image/png": "[encoded data removed]",
      "text/plain": [
       "<Figure size 432x288 with 1 Axes>"
      ]
     },
     "metadata": {
      "needs_background": "light"
     },
     "output_type": "display_data"
    }
   ],
   "source": [
    "%matplotlib inline\n",
    "dataset['headline'].str.len().plot.hist()"
   ]
  },
  {
   "cell_type": "code",
   "execution_count": 6,
   "metadata": {
    "scrolled": true
   },
   "outputs": [
    {
     "data": {
      "text/plain": [
       " 0    29\n",
       "-1    19\n",
       " 1     7\n",
       "Name: label, dtype: int64"
      ]
     },
     "execution_count": 6,
     "metadata": {},
     "output_type": "execute_result"
    }
   ],
   "source": [
    "dataset['label'].value_counts()"
   ]
  },
  {
   "cell_type": "code",
   "execution_count": 7,
   "metadata": {
    "scrolled": true
   },
   "outputs": [
    {
     "data": {
      "text/plain": [
       " 0    29\n",
       "-1    19\n",
       " 1     7\n",
       "Name: label, dtype: int64"
      ]
     },
     "execution_count": 7,
     "metadata": {},
     "output_type": "execute_result"
    }
   ],
   "source": [
    "dataset['label'].value_counts()"
   ]
  },
  {
   "cell_type": "code",
   "execution_count": 8,
   "metadata": {
    "scrolled": true
   },
   "outputs": [
    {
     "data": {
      "text/plain": [
       "0    Huaweis New Android Phone Lacks Luster Without...\n",
       "1              ATT Extends 5G Leadership Across the US\n",
       "2                    The Namewashing of Public Transit\n",
       "3    Disney Hit 10 Million SignUps at Its Launch Bu...\n",
       "4    Black Friday and Cyber Monday at Verizon The b...\n",
       "Name: headline, dtype: object"
      ]
     },
     "execution_count": 8,
     "metadata": {},
     "output_type": "execute_result"
    }
   ],
   "source": [
    "dataset['headline'].apply(lambda x: x.lower())\n",
    "dataset['headline'] = dataset['headline'].apply(lambda x: re.sub('[^a-zA-Z0-9\\s]',\"\",x))\n",
    "dataset['headline'].head()"
   ]
  },
  {
   "cell_type": "code",
   "execution_count": 9,
   "metadata": {
    "scrolled": true
   },
   "outputs": [
    {
     "data": {
      "text/plain": [
       "array([[  0,   0,   0,   0,   0,   0,   0,   0,   0,   0,   0,   0,   0,\n",
       "          0,   0,   0,  99,  24, 100,  25, 101, 102, 103, 104, 105],\n",
       "       [  0,   0,   0,   0,   0,   0,   0,   0,   0,   0,   0,   0,   0,\n",
       "          0,   0,   0,   0,   0,   6, 106,   1, 107, 108,  11,  14],\n",
       "       [  0,   0,   0,   0,   0,   0,   0,   0,   0,   0,   0,   0,   0,\n",
       "          0,   0,   0,   0,   0,   0,   0,  11, 109,   3, 110, 111],\n",
       "       [  0,   0,   0,   0,   0,   0,   0,   0, 112, 113, 114,  47, 115,\n",
       "         15,   7, 116, 117, 118, 119, 120, 121,  16,  48,  34, 122],\n",
       "       [  0,   0,   0,   0,   0,   0,   0,   0,   0,   0,   0,   0,   0,\n",
       "          0, 123, 124,   8, 125,  35,  15,   5,  11, 126,  36, 127],\n",
       "       [  0,   0,   0,   0,   0,   0,   0,   0,   0,   0,   0,   0,   0,\n",
       "          0,   0,   0,   0,   5,  26,   8, 128, 129, 130,  49, 131],\n",
       "       [  0,   0,   0,   0,   0,   0,   0,   0,   0,   6, 132,   1,   2,\n",
       "        133,   3, 134,  37,  50,   8,  51,  10,  38, 135,   3,  27]])"
      ]
     },
     "execution_count": 9,
     "metadata": {},
     "output_type": "execute_result"
    }
   ],
   "source": [
    "tokenizer = Tokenizer(num_words=5000, split=\" \")\n",
    "tokenizer.fit_on_texts(dataset['headline'].values)\n",
    "\n",
    "X = tokenizer.texts_to_sequences(dataset['headline'].values)\n",
    "X = pad_sequences(X)\n",
    "X[:7]"
   ]
  },
  {
   "cell_type": "code",
   "execution_count": 10,
   "metadata": {},
   "outputs": [
    {
     "data": {
      "text/plain": [
       "(55, 25)"
      ]
     },
     "execution_count": 10,
     "metadata": {},
     "output_type": "execute_result"
    }
   ],
   "source": [
    "X.shape"
   ]
  },
  {
   "cell_type": "code",
   "execution_count": 11,
   "metadata": {},
   "outputs": [
    {
     "name": "stderr",
     "output_type": "stream",
     "text": [
      "WARNING: Logging before flag parsing goes to stderr.\n",
      "W1127 15:10:31.824625 16628 deprecation_wrapper.py:119] From D:\\Anaconda3\\lib\\site-packages\\keras\\backend\\tensorflow_backend.py:74: The name tf.get_default_graph is deprecated. Please use tf.compat.v1.get_default_graph instead.\n",
      "\n",
      "W1127 15:10:31.840583 16628 deprecation_wrapper.py:119] From D:\\Anaconda3\\lib\\site-packages\\keras\\backend\\tensorflow_backend.py:517: The name tf.placeholder is deprecated. Please use tf.compat.v1.placeholder instead.\n",
      "\n",
      "W1127 15:10:31.844542 16628 deprecation_wrapper.py:119] From D:\\Anaconda3\\lib\\site-packages\\keras\\backend\\tensorflow_backend.py:4138: The name tf.random_uniform is deprecated. Please use tf.random.uniform instead.\n",
      "\n",
      "W1127 15:10:31.855513 16628 deprecation_wrapper.py:119] From D:\\Anaconda3\\lib\\site-packages\\keras\\backend\\tensorflow_backend.py:133: The name tf.placeholder_with_default is deprecated. Please use tf.compat.v1.placeholder_with_default instead.\n",
      "\n",
      "W1127 15:10:31.862493 16628 deprecation.py:506] From D:\\Anaconda3\\lib\\site-packages\\keras\\backend\\tensorflow_backend.py:3445: calling dropout (from tensorflow.python.ops.nn_ops) with keep_prob is deprecated and will be removed in a future version.\n",
      "Instructions for updating:\n",
      "Please use `rate` instead of `keep_prob`. Rate should be set to `rate = 1 - keep_prob`.\n"
     ]
    }
   ],
   "source": [
    "model = Sequential()\n",
    "model.add(Embedding(5000, 256, input_length = X.shape[1]))\n",
    "model.add(Dropout(0.3))\n",
    "model.add(LSTM(256, return_sequences=True, dropout = 0.3, recurrent_dropout=0.2))\n",
    "model.add(LSTM(256, dropout = 0.3, recurrent_dropout =0.2))\n",
    "model.add(Dense(3, activation = 'softmax'))"
   ]
  },
  {
   "cell_type": "code",
   "execution_count": 12,
   "metadata": {
    "scrolled": true
   },
   "outputs": [
    {
     "name": "stderr",
     "output_type": "stream",
     "text": [
      "W1127 15:10:32.463914 16628 deprecation_wrapper.py:119] From D:\\Anaconda3\\lib\\site-packages\\keras\\optimizers.py:790: The name tf.train.Optimizer is deprecated. Please use tf.compat.v1.train.Optimizer instead.\n",
      "\n",
      "W1127 15:10:32.487843 16628 deprecation_wrapper.py:119] From D:\\Anaconda3\\lib\\site-packages\\keras\\backend\\tensorflow_backend.py:3295: The name tf.log is deprecated. Please use tf.math.log instead.\n",
      "\n"
     ]
    },
    {
     "name": "stdout",
     "output_type": "stream",
     "text": [
      "_________________________________________________________________\n",
      "Layer (type)                 Output Shape              Param #   \n",
      "=================================================================\n",
      "embedding_1 (Embedding)      (None, 25, 256)           1280000   \n",
      "_________________________________________________________________\n",
      "dropout_1 (Dropout)          (None, 25, 256)           0         \n",
      "_________________________________________________________________\n",
      "lstm_1 (LSTM)                (None, 25, 256)           525312    \n",
      "_________________________________________________________________\n",
      "lstm_2 (LSTM)                (None, 256)               525312    \n",
      "_________________________________________________________________\n",
      "dense_1 (Dense)              (None, 3)                 771       \n",
      "=================================================================\n",
      "Total params: 2,331,395\n",
      "Trainable params: 2,331,395\n",
      "Non-trainable params: 0\n",
      "_________________________________________________________________\n"
     ]
    }
   ],
   "source": [
    "model.compile(loss = 'categorical_crossentropy', optimizer='adam', metrics=['accuracy'])\n",
    "model.summary()"
   ]
  },
  {
   "cell_type": "code",
   "execution_count": 13,
   "metadata": {
    "scrolled": true
   },
   "outputs": [
    {
     "name": "stdout",
     "output_type": "stream",
     "text": [
      "1 [0 0 1]\n",
      "0 [0 1 0]\n",
      "1 [0 0 1]\n",
      "-1 [1 0 0]\n",
      "0 [0 1 0]\n",
      "0 [0 1 0]\n",
      "-1 [1 0 0]\n"
     ]
    },
    {
     "data": {
      "text/plain": [
       "[None, None, None, None, None, None, None]"
      ]
     },
     "execution_count": 13,
     "metadata": {},
     "output_type": "execute_result"
    }
   ],
   "source": [
    "y = pd.get_dummies(dataset['label']).values\n",
    "[print(dataset['label'][i], y[i]) for i in range(0,7)]"
   ]
  },
  {
   "cell_type": "code",
   "execution_count": 14,
   "metadata": {},
   "outputs": [],
   "source": [
    "X_train, X_test, y_train, y_test = train_test_split(X,y, test_size=0.2, random_state=0)"
   ]
  },
  {
   "cell_type": "code",
   "execution_count": 15,
   "metadata": {},
   "outputs": [
    {
     "data": {
      "text/plain": [
       "array([[  0,   0,   0,   0,   0,   0,   0,   0,   0,   0,   0,   0,   0,\n",
       "          0,   0,   0,   0,  21,  83,  84,  85,  86,   4,  14,  87],\n",
       "       [  0,   0,   0,   0,   0,   0,   0,   0,   0,   0,   0,   0,  45,\n",
       "         66,   9,   5,  18,   1,   8, 265,   9,   7, 266,  18, 267],\n",
       "       [  0,   0,   0,   0,   0,   0,   0,   0,   0,   0,   0,   0,   0,\n",
       "          0,   0,  26,  92,  46,  27,  93,  94,  95,  32,  33,  96],\n",
       "       [  0,   0,   0,   0,   0,   0,   0,   0,   0,   0,   0,   0,   0,\n",
       "          0,   0,   0,   0,   0,   0,   6,  29, 231,   1,  22, 232],\n",
       "       [  0,   0,   0,   0,   0,   0,   0,   0,   0,   0,   0,  42,  68,\n",
       "         36,  30,   2,  20,  69,  43,   9,  14,  30,  15,  24,  70],\n",
       "       [  0,   0,   0,   0,   0,   0,   0,   0,   0,   0,   0,   0,   0,\n",
       "          0,   0,   0,   0,   0,   0,   0,  11, 109,   3, 110, 111],\n",
       "       [  0,   0,   0,   0,   0,   0,   0,   0,   0,   0,   0,   0,   0,\n",
       "          0,   0,   0,   0,   5,  45,   2, 261,   1, 262, 263, 264]])"
      ]
     },
     "execution_count": 15,
     "metadata": {},
     "output_type": "execute_result"
    }
   ],
   "source": [
    "X_test[:7]"
   ]
  },
  {
   "cell_type": "code",
   "execution_count": 16,
   "metadata": {
    "scrolled": false
   },
   "outputs": [
    {
     "name": "stderr",
     "output_type": "stream",
     "text": [
      "W1127 15:10:32.651414 16628 deprecation.py:323] From D:\\Anaconda3\\lib\\site-packages\\tensorflow\\python\\ops\\math_grad.py:1250: add_dispatch_support.<locals>.wrapper (from tensorflow.python.ops.array_ops) is deprecated and will be removed in a future version.\n",
      "Instructions for updating:\n",
      "Use tf.where in 2.0, which has the same broadcast rule as np.where\n"
     ]
    },
    {
     "name": "stdout",
     "output_type": "stream",
     "text": [
      "Epoch 1/50\n",
      " - 2s - loss: 1.0992 - acc: 0.2500\n",
      "Epoch 2/50\n",
      " - 0s - loss: 1.0795 - acc: 0.4773\n",
      "Epoch 3/50\n",
      " - 0s - loss: 1.0485 - acc: 0.5000\n",
      "Epoch 4/50\n",
      " - 0s - loss: 0.9852 - acc: 0.4773\n",
      "Epoch 5/50\n",
      " - 0s - loss: 0.9335 - acc: 0.4773\n",
      "Epoch 6/50\n",
      " - 0s - loss: 1.0122 - acc: 0.4773\n",
      "Epoch 7/50\n",
      " - 0s - loss: 0.9201 - acc: 0.6818\n",
      "Epoch 8/50\n",
      " - 0s - loss: 0.9210 - acc: 0.5682\n",
      "Epoch 9/50\n",
      " - 0s - loss: 0.9183 - acc: 0.4318\n",
      "Epoch 10/50\n",
      " - 0s - loss: 0.9011 - acc: 0.7273\n",
      "Epoch 11/50\n",
      " - 0s - loss: 0.8846 - acc: 0.7500\n",
      "Epoch 12/50\n",
      " - 0s - loss: 0.8421 - acc: 0.6818\n",
      "Epoch 13/50\n",
      " - 0s - loss: 0.7984 - acc: 0.6591\n",
      "Epoch 14/50\n",
      " - 0s - loss: 0.7631 - acc: 0.6591\n",
      "Epoch 15/50\n",
      " - 0s - loss: 0.7092 - acc: 0.7045\n",
      "Epoch 16/50\n",
      " - 0s - loss: 0.6234 - acc: 0.7955\n",
      "Epoch 17/50\n",
      " - 0s - loss: 0.5609 - acc: 0.8636\n",
      "Epoch 18/50\n",
      " - 0s - loss: 0.4984 - acc: 0.8409\n",
      "Epoch 19/50\n",
      " - 0s - loss: 0.4374 - acc: 0.7727\n",
      "Epoch 20/50\n",
      " - 0s - loss: 0.3808 - acc: 0.8409\n",
      "Epoch 21/50\n",
      " - 0s - loss: 0.3022 - acc: 0.9091\n",
      "Epoch 22/50\n",
      " - 0s - loss: 0.2846 - acc: 0.8864\n",
      "Epoch 23/50\n",
      " - 0s - loss: 0.2067 - acc: 0.9091\n",
      "Epoch 24/50\n",
      " - 0s - loss: 0.1421 - acc: 0.9773\n",
      "Epoch 25/50\n",
      " - 0s - loss: 0.1608 - acc: 0.9773\n",
      "Epoch 26/50\n",
      " - 0s - loss: 0.1016 - acc: 1.0000\n",
      "Epoch 27/50\n",
      " - 0s - loss: 0.0812 - acc: 1.0000\n",
      "Epoch 28/50\n",
      " - 0s - loss: 0.0632 - acc: 1.0000\n",
      "Epoch 29/50\n",
      " - 0s - loss: 0.0456 - acc: 1.0000\n",
      "Epoch 30/50\n",
      " - 0s - loss: 0.0393 - acc: 1.0000\n",
      "Epoch 31/50\n",
      " - 0s - loss: 0.0178 - acc: 1.0000\n",
      "Epoch 32/50\n",
      " - 0s - loss: 0.0136 - acc: 1.0000\n",
      "Epoch 33/50\n",
      " - 0s - loss: 0.0092 - acc: 1.0000\n",
      "Epoch 34/50\n",
      " - 0s - loss: 0.0047 - acc: 1.0000\n",
      "Epoch 35/50\n",
      " - 0s - loss: 0.0025 - acc: 1.0000\n",
      "Epoch 36/50\n",
      " - 0s - loss: 0.0021 - acc: 1.0000\n",
      "Epoch 37/50\n",
      " - 0s - loss: 0.0047 - acc: 1.0000\n",
      "Epoch 38/50\n",
      " - 0s - loss: 0.0039 - acc: 1.0000\n",
      "Epoch 39/50\n",
      " - 0s - loss: 0.0030 - acc: 1.0000\n",
      "Epoch 40/50\n",
      " - 0s - loss: 0.0014 - acc: 1.0000\n",
      "Epoch 41/50\n",
      " - 0s - loss: 7.8580e-04 - acc: 1.0000\n",
      "Epoch 42/50\n",
      " - 0s - loss: 3.7882e-04 - acc: 1.0000\n",
      "Epoch 43/50\n",
      " - 0s - loss: 0.0012 - acc: 1.0000\n",
      "Epoch 44/50\n",
      " - 0s - loss: 2.8779e-04 - acc: 1.0000\n",
      "Epoch 45/50\n",
      " - 0s - loss: 2.9546e-04 - acc: 1.0000\n",
      "Epoch 46/50\n",
      " - 0s - loss: 2.0916e-04 - acc: 1.0000\n",
      "Epoch 47/50\n",
      " - 0s - loss: 2.0624e-04 - acc: 1.0000\n",
      "Epoch 48/50\n",
      " - 0s - loss: 7.0952e-04 - acc: 1.0000\n",
      "Epoch 49/50\n",
      " - 0s - loss: 9.8645e-05 - acc: 1.0000\n",
      "Epoch 50/50\n",
      " - 0s - loss: 6.5552e-04 - acc: 1.0000\n",
      "Accuracy: 36.36%\n"
     ]
    }
   ],
   "source": [
    "batch_size = 64\n",
    "epochs = 50\n",
    "model.fit(X_train, y_train, epochs = epochs, batch_size = batch_size, verbose=2)\n",
    "scores=model.evaluate(X_test,y_test, verbose=2)\n",
    "print(\"Accuracy: %.2f%%\" %(scores[1]*100))"
   ]
  },
  {
   "cell_type": "code",
   "execution_count": 17,
   "metadata": {},
   "outputs": [],
   "source": [
    "model.save(r'C:\\Users\\samir\\Desktop\\Devops\\Sentiment_Model.h5')"
   ]
  },
  {
   "cell_type": "code",
   "execution_count": 18,
   "metadata": {
    "scrolled": true
   },
   "outputs": [
    {
     "name": "stdout",
     "output_type": "stream",
     "text": [
      "Huaweis New Android Phone Lacks Luster Without Google Apps\n",
      "NEGATIVE\n",
      "ATT Extends 5G Leadership Across the US\n",
      "NEUTRAL\n",
      "The Namewashing of Public Transit\n",
      "POSITIVE\n",
      "Disney Hit 10 Million SignUps at Its Launch But That Number Might Not Be All It Appears\n",
      "NEGATIVE\n",
      "Black Friday and Cyber Monday at Verizon The best tech deals\n",
      "NEGATIVE\n",
      "Verizon Qualcomm and Ericsson demonstrate Dynamic Spectrum Sharing\n",
      "NEGATIVE\n",
      "ATT pushing 5G to tens of millions this year and nationwide in first half of 2020\n",
      "NEGATIVE\n"
     ]
    }
   ],
   "source": [
    "prediction = model.predict(X_test)\n",
    "\n",
    "#[print(dataset['text'][i], prediction[i], y_test[i]) for i in range(0,7)]\n",
    "for i in range(0,7):\n",
    "    print(dataset['headline'][i])\n",
    "    if(max(enumerate(prediction[i]), key=operator.itemgetter(1))[0]==0):\n",
    "        print(\"POSITIVE\")\n",
    "    elif(max(enumerate(prediction[i]), key=operator.itemgetter(1))[0]==1):\n",
    "        print(\"NEUTRAL\")\n",
    "    elif(max(enumerate(prediction[i]), key=operator.itemgetter(1))[0]==2):\n",
    "        print(\"NEGATIVE\")"
   ]
  }
 ],
 "metadata": {
  "kernelspec": {
   "display_name": "Python 3",
   "language": "python",
   "name": "python3"
  },
  "language_info": {
   "codemirror_mode": {
    "name": "ipython",
    "version": 3
   },
   "file_extension": ".py",
   "mimetype": "text/x-python",
   "name": "python",
   "nbconvert_exporter": "python",
   "pygments_lexer": "ipython3",
   "version": "3.7.3"
  }
 },
 "nbformat": 4,
 "nbformat_minor": 2
}
